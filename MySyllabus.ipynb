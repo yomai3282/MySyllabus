{
 "cells": [
  {
   "cell_type": "code",
   "execution_count": 6,
   "metadata": {},
   "outputs": [],
   "source": [
    "# TODOアプリ\n",
    "#--------------------------\n",
    "\n",
    "import tkinter as tk\n",
    "\n",
    "# Todoアプリのクラス\n",
    "class TodoApp(tk.Tk):\n",
    "    def __init__(self):\n",
    "        super().__init__()\n",
    "        self.title(\"Todo App\")\n",
    "        self.geometry(\"400x400\")\n",
    "\n",
    "        # ラベルとエントリーを配置するフレーム\n",
    "        input_frame = tk.Frame(self)\n",
    "        input_frame.pack(pady=10)\n",
    "        tk.Label(input_frame, text=\"Task:\").grid(row=0, column=0)\n",
    "        self.task_entry = tk.Entry(input_frame, width=30)\n",
    "        self.task_entry.grid(row=0, column=1)\n",
    "\n",
    "        # 追加ボタンを配置するフレーム\n",
    "        btn_frame = tk.Frame(self)\n",
    "        btn_frame.pack(pady=10)\n",
    "        tk.Button(btn_frame, text=\"Add Task\", command=self.add_task).pack(side=\"left\")\n",
    "        tk.Button(btn_frame, text=\"Delete Task\", command=self.delete_task).pack(side=\"left\")\n",
    "\n",
    "        # タスクの一覧を表示するリストボックス\n",
    "        self.task_list = tk.Listbox(self, selectmode=\"multiple\", bd=10)\n",
    "        self.task_list.pack(fill=\"both\", expand=True)\n",
    "\n",
    "        # タスクの一覧\n",
    "        self.tasks = []\n",
    "\n",
    "    # タスクの追加\n",
    "    def add_task(self):\n",
    "        task = self.task_entry.get()\n",
    "        if task:\n",
    "            self.tasks.append(task)\n",
    "            self.task_list.insert(\"end\", task)\n",
    "            self.task_entry.delete(0, \"end\")\n",
    "\n",
    "    # タスクの削除\n",
    "    def delete_task(self):\n",
    "        selected_indices = self.task_list.curselection()\n",
    "        for index in selected_indices[::-1]:\n",
    "            self.task_list.delete(index)\n",
    "            self.tasks.pop(index)\n",
    "\n",
    "# Todoアプリを起動する\n",
    "if __name__ == \"__main__\":\n",
    "    app = TodoApp()\n",
    "    app.mainloop()"
   ]
  }
 ],
 "metadata": {
  "kernelspec": {
   "display_name": "MySyllabus-YkW3xQlM",
   "language": "python",
   "name": "python3"
  },
  "language_info": {
   "codemirror_mode": {
    "name": "ipython",
    "version": 3
   },
   "file_extension": ".py",
   "mimetype": "text/x-python",
   "name": "python",
   "nbconvert_exporter": "python",
   "pygments_lexer": "ipython3",
   "version": "3.10.5"
  }
 },
 "nbformat": 4,
 "nbformat_minor": 2
}
